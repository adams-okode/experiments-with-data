{
 "cells": [
  {
   "cell_type": "markdown",
   "metadata": {},
   "source": [
    "About \n",
    "\n",
    "- refresh + ramp up up my data engineering + data science skills (including leveraging cloud platforms like GCPs, AWS, Azure, etc)\n",
    "- tinker creatively (I have several personal projects along with this) and keep learning and exploring\n",
    "\n",
    "\n",
    "## pf_assistant = Personal Finance Assistant\n",
    "\n",
    "by Josiah Mugambi \n",
    "\n",
    "Key premise is that most people don't actively / daily track their expenses because it is tedious and boring.\n",
    "\n",
    "- eventually create a personal finance assistant that takes care of the mundane and tedious personal financial tracking while providing financial insights and advice based on spending \n",
    "\n",
    "\n",
    "#### 26th Nov 2021\n",
    "\n",
    "\n",
    "Started by dumping all my texts and axported my texts using SMS Backup and Restore. This creates an XML dump.\n",
    "I need to figure out how parse this, but for now I used the toool on the website then copy-pasted to excel.\n",
    "Formated the phone numbers that as text (Custom -> Chose 0) then exported to CSV\n",
    "Loaded new CSV as a Pandas Data frame and did some basic cleanup\n",
    "\n",
    "First thing I want to do is categorize all my text messages.\n",
    "\n",
    "#### 10th Dec 2021\n",
    "Took a break to catch up on prep for Google's Professional Cloud Architect certification exam (which I passed!). Was really hard. I'm hoping to sit the Professional Data Engineer certification exam sometimes in January so for the next few weeks will be tinkering on GCP's data products along with Jupyter while on this (side) project.\n",
    "\n",
    "Started on a little feature engineering on Jupyter. A short working session. Created new columns from the date column into year, month, day, and hour along with actual time. Useful to analyze later. Added a new column for category. Goal now is to categorize these. Next time - perhaps work with ~100 rows randomly selected to start with, categorize 40 by hand, then see if I can implement a multi-class classifier to do the rest. \n",
    "\n",
    "\n",
    "I'll also attempt to model the same on BigQuery ML and see how the results vary\n",
    "\n",
    "Also a [little reading](https://towardsdatascience.com/stop-persisting-pandas-data-frames-in-csvs-f369a6440af5) on best way to persist pandas data. Parquet can be natively read into BigQuery. Not sure about Pickle. However pickle is a native python format.\n",
    "\n",
    "Felt very rusty but I think I know where I want to go. Stuff will come back to me along with the new things I'm learning, and I'll be able to move faster.\n",
    "\n",
    "\n",
    "#### 14th Dec 2021\n",
    "\n",
    "Goals for the day\n",
    " - [x] Organize texts by year (2018,2019,2020,2021) \n",
    " - [X] randomly select ~100-150 rows from 2018. [This](https://datatofish.com/random-rows-pandas-dataframe/) was useful.\n",
    " - [X] take ~70% as training data and 30% as test data\n",
    " - [ ] label the 70% training data\n",
    " - [ ] attempt to classify 2019\n",
    " - [ ] put some content up on learn.mugambi.co.ke \n",
    "\n",
    "Quickly learning that labelling data will take far longer than expensive (it's tedious!)\n",
    "\n",
    "T.B.C next time\n",
    "\n",
    "Just realized that the meat of the work might be to make sense of the actual text messages?\n",
    "\n",
    "Future goals: - some NLP on the body of the text in order to determine category, along with sender?\n",
    "\n",
    "#### 16th Dec 2021\n",
    "\n",
    "Goals for the day\n",
    "- [X] label the small dataset\n",
    "- [X] figure out and implement a better way to do the training/test data split\n",
    "    there are several ways. will try go through them at different points.\n",
    "- [ ] explore different classifiers\n",
    "- [ ] put some content up on learn.mugambi.co.ke\n",
    "\n",
    "\n",
    "\n"
   ]
  },
  {
   "cell_type": "code",
   "execution_count": 2,
   "metadata": {},
   "outputs": [],
   "source": [
    "# Imports \n",
    "import pandas as pd\n",
    "\n",
    "# First some no-code exploration using Bamboo Lib\n",
    "# https://docs.bamboolib.8080labs.com/documentation/how-tos/installation-and-setup/install-bamboolib\n",
    "\n",
    "import bamboolib as bam"
   ]
  },
  {
   "cell_type": "markdown",
   "metadata": {
    "tags": []
   },
   "source": [
    "#### Data Preparation\n",
    "\n",
    "- Exported my texts using SMS Backup and Restore. This creates an XML dump. \n",
    "- I need to figure out how parse this, but for now I used the toool on the website then copy-pasted to excel\n",
    "- formated the phone numbers that as text (Custom -> Chose 0) then exported to CSV\n"
   ]
  },
  {
   "cell_type": "code",
   "execution_count": null,
   "metadata": {
    "tags": []
   },
   "outputs": [],
   "source": [
    "#df = pd.read_csv (rawfile)\n",
    "#print(df)"
   ]
  },
  {
   "cell_type": "code",
   "execution_count": null,
   "metadata": {
    "tags": []
   },
   "outputs": [],
   "source": [
    "#Convert column type to datetime\n",
    "#df['DATE'] = pd.to_datetime(df['DATE'], infer_datetime_format=True)\n",
    "#df"
   ]
  },
  {
   "cell_type": "code",
   "execution_count": null,
   "metadata": {
    "tags": []
   },
   "outputs": [],
   "source": [
    "# Only need TYPE = Received for now, drop Sent\n",
    "#df = df.loc[df['TYPE'] == 'Received']\n",
    "# Then drop Column type\n",
    "#del df['TYPE']"
   ]
  },
  {
   "cell_type": "code",
   "execution_count": null,
   "metadata": {
    "tags": []
   },
   "outputs": [],
   "source": [
    "# Read file (pirkle format)\n",
    "#df = pd.read_pickle(workfile)"
   ]
  },
  {
   "cell_type": "code",
   "execution_count": null,
   "metadata": {
    "tags": []
   },
   "outputs": [],
   "source": [
    "#df['NAME_NUMBER'] = df['NAME/NUMBER'].astype('string')\n",
    "#df['MESSAGE BODY'] = df['MESSAGE BODY'].astype('string')"
   ]
  },
  {
   "cell_type": "code",
   "execution_count": null,
   "metadata": {
    "tags": []
   },
   "outputs": [],
   "source": [
    "#df['message_body'] = df['MESSAGE_BODY']\n",
    "#df['name_number'] = df['NAME_NUMBER']\n",
    "#df['date_time'] = df['DATE']\n",
    "#df = df[[\"name_number\",\"date_time\",\"message_body\"]]"
   ]
  },
  {
   "cell_type": "code",
   "execution_count": 15,
   "metadata": {
    "tags": []
   },
   "outputs": [],
   "source": [
    "# Some filename variables\n",
    "file_raw_csv =\"texts/sms-20211122_raw.csv\"\n",
    "file_work_pkl = \"texts/sms-20211122_work.pkl\" # In pickle format\n",
    "file_work_csv = \"texts/sms-20211122_work.csv\"\n",
    "# for Year 2018\n",
    "file_work_2018_pkl = \"texts/sms-20211122_work_2018.pkl\"\n",
    "file_work_2018_csv = \"texts/sms-20211122_work_2018.csv\"\n",
    "file_work_small2018_pkl = \"texts/sms-20211122_work_small2018.pkl\"\n",
    "file_work_small2018_csv = \"texts/sms-20211122_work_small2018.csv\"\n",
    "\n",
    "file_train_2018_pkl = \"texts/sms-20211122_train_2018.pkl\"\n",
    "file_train_2018_csv = \"texts/sms-20211122_train_2018.csv\"\n",
    "\n"
   ]
  },
  {
   "cell_type": "code",
   "execution_count": 4,
   "metadata": {},
   "outputs": [
    {
     "name": "stdout",
     "output_type": "stream",
     "text": [
      "      name_number           date_time  \\\n",
      "0          Telkom 2018-08-20 11:16:00   \n",
      "1       SAFARICOM 2018-08-20 11:16:00   \n",
      "2        Whatsapp 2018-08-20 11:17:00   \n",
      "3         NICBANK 2018-08-20 11:20:00   \n",
      "4          Verify 2018-08-20 11:41:00   \n",
      "...           ...                 ...   \n",
      "12433        1500 2021-11-21 15:40:00   \n",
      "12434         910 2021-11-21 18:30:00   \n",
      "12435         905 2021-11-21 18:39:00   \n",
      "12436         905 2021-11-21 18:39:00   \n",
      "12437         905 2021-11-21 18:39:00   \n",
      "\n",
      "                                            message_body  year  month  day  \\\n",
      "0      Now you can surf the Internet. You can subscri...  2018      8   20   \n",
      "1      Usirudi kwa BODMAS na hesabu ya airtime. Get o...  2018      8   20   \n",
      "2      WhatsApp code 882-934. You can also tap on thi...  2018      8   20   \n",
      "3      Dear Customer,your mobile banking activation K...  2018      8   20   \n",
      "4      829643 is your verification code for Bonga (Be...  2018      8   20   \n",
      "...                                                  ...   ...    ...  ...   \n",
      "12433  Cher client, votre téléphone n’est pas configu...  2021     11   21   \n",
      "12434  BLA: QUAND DIEU DIT C'EST POUR TOI, C'EST VRAI...  2021     11   21   \n",
      "12435  Vous venez de recharger 4500.00 FCFA. Votre no...  2021     11   21   \n",
      "12436  Vous avez bien souscrit au Forfait data 4500F ...  2021     11   21   \n",
      "12437  Vous venez de recharger 1000.00 FCFA. Votre no...  2021     11   21   \n",
      "\n",
      "       hour category  \n",
      "0        11           \n",
      "1        11           \n",
      "2        11           \n",
      "3        11           \n",
      "4        11           \n",
      "...     ...      ...  \n",
      "12433    15           \n",
      "12434    18           \n",
      "12435    18           \n",
      "12436    18           \n",
      "12437    18           \n",
      "\n",
      "[10368 rows x 8 columns]\n"
     ]
    }
   ],
   "source": [
    "df = pd.read_pickle(file_work_pkl)\n",
    "print(df)"
   ]
  },
  {
   "cell_type": "markdown",
   "metadata": {},
   "source": [
    "##### Feature Engineering\n",
    "\n",
    "Some of the features that might be useful:\n",
    "\n",
    "From the Date these columns:\n",
    "- Day date.day\n",
    "- Month date.month\n",
    "- Year date.year\n",
    "- Hour time.hour\n",
    "\n",
    "When exploring financial transactions:\n",
    "- Amount \n",
    "- Amount Categories \n",
    "- Currency \n"
   ]
  },
  {
   "cell_type": "code",
   "execution_count": null,
   "metadata": {},
   "outputs": [],
   "source": [
    "# Save file\n",
    "#df.to_pickle(work_file_pkl)\n",
    "#df.to_csv(work_file_csv)"
   ]
  },
  {
   "cell_type": "code",
   "execution_count": null,
   "metadata": {},
   "outputs": [],
   "source": [
    "#Create new columns: year, month, day, hour\n",
    "#df['year'] = pd.DatetimeIndex(df['date_time']).year\n",
    "#df['month'] = pd.DatetimeIndex(df['date_time']).month\n",
    "#df['day'] = pd.DatetimeIndex(df['date_time']).day\n",
    "#df['hour'] = pd.DatetimeIndex(df['date_time']).hour"
   ]
  },
  {
   "cell_type": "code",
   "execution_count": null,
   "metadata": {},
   "outputs": [],
   "source": [
    "#Create category column - we'll first need to assign categories\n",
    "#df['category'] = \"\""
   ]
  },
  {
   "cell_type": "code",
   "execution_count": 7,
   "metadata": {},
   "outputs": [],
   "source": [
    "#Select only 2018\n",
    "df_2018 = df[df['year'] == 2018 ]\n",
    "\n",
    "df_2018.to_pickle(file_work_2018_pkl)\n",
    "df_2018.to_csv(file_work_2018_csv)\n"
   ]
  },
  {
   "cell_type": "code",
   "execution_count": 5,
   "metadata": {},
   "outputs": [],
   "source": [
    "df_2018 = pd.read_pickle(file_work_2018_pkl)"
   ]
  },
  {
   "cell_type": "code",
   "execution_count": 6,
   "metadata": {
    "tags": []
   },
   "outputs": [
    {
     "name": "stdout",
     "output_type": "stream",
     "text": [
      "     name_number           date_time  \\\n",
      "0         Telkom 2018-08-20 11:16:00   \n",
      "1      SAFARICOM 2018-08-20 11:16:00   \n",
      "2       Whatsapp 2018-08-20 11:17:00   \n",
      "3        NICBANK 2018-08-20 11:20:00   \n",
      "4         Verify 2018-08-20 11:41:00   \n",
      "...          ...                 ...   \n",
      "1972      Telkom 2018-12-31 18:05:00   \n",
      "1973      Telkom 2018-12-31 18:05:00   \n",
      "1974      Telkom 2018-12-31 18:50:00   \n",
      "1975      Telkom 2018-12-31 18:53:00   \n",
      "1976       MPESA 2018-12-31 21:21:00   \n",
      "\n",
      "                                           message_body  year  month  day  \\\n",
      "0     Now you can surf the Internet. You can subscri...  2018      8   20   \n",
      "1     Usirudi kwa BODMAS na hesabu ya airtime. Get o...  2018      8   20   \n",
      "2     WhatsApp code 882-934. You can also tap on thi...  2018      8   20   \n",
      "3     Dear Customer,your mobile banking activation K...  2018      8   20   \n",
      "4     829643 is your verification code for Bonga (Be...  2018      8   20   \n",
      "...                                                 ...   ...    ...  ...   \n",
      "1972  Hello, your balance is zero, please recharge y...  2018     12   31   \n",
      "1973  You are running low on credit. Please recharge...  2018     12   31   \n",
      "1974  You have received KSh150.00 Telkom Bonus & Ksh...  2018     12   31   \n",
      "1975  You have subscribed to Monthly Freedom 10GB va...  2018     12   31   \n",
      "1976  NA10VOHQ98 Confirmed. Ksh1,000.00 sent to MALC...  2018     12   31   \n",
      "\n",
      "      hour category  \n",
      "0       11           \n",
      "1       11           \n",
      "2       11           \n",
      "3       11           \n",
      "4       11           \n",
      "...    ...      ...  \n",
      "1972    18           \n",
      "1973    18           \n",
      "1974    18           \n",
      "1975    18           \n",
      "1976    21           \n",
      "\n",
      "[1534 rows x 8 columns]\n"
     ]
    }
   ],
   "source": [
    "print(df_2018)"
   ]
  },
  {
   "cell_type": "markdown",
   "metadata": {},
   "source": [
    "#### Classifying\n",
    "I have 1534 texts from Aug-Dec 2018. Not a perfect sampling - but will first work with ~10% of this. Smaller number to label, train and test.\n",
    "\n",
    "\n"
   ]
  },
  {
   "cell_type": "markdown",
   "metadata": {},
   "source": [
    "### Initial Categories:\n",
    "\n",
    "- FINANCIAL - Banks, MPESA, Bills - will go deeper\n",
    "- INFO - (Spam half the time)\n",
    "- PEOPLE\n",
    "\n",
    "Quickly learning that labelling data will take far longer than expensive (it's tedious!)\n",
    "\n",
    "T.B.C next time"
   ]
  },
  {
   "cell_type": "code",
   "execution_count": 22,
   "metadata": {},
   "outputs": [],
   "source": [
    "# Select 10% of the 2018 DF to play around with\n",
    "\n",
    "df_small2018 = df_2018.sample(frac=0.10).reset_index(drop=True)\n",
    "df_small2018.to_pickle(file_work_small2018_pkl)\n",
    "df_small2018.to_csv(file_work_small2018_csv)"
   ]
  },
  {
   "cell_type": "code",
   "execution_count": 65,
   "metadata": {
    "collapsed": true,
    "jupyter": {
     "outputs_hidden": true
    },
    "tags": []
   },
   "outputs": [
    {
     "data": {
      "application/vnd.jupyter.widget-view+json": {
       "model_id": "28c82057e8594507a1c1bdf40465ed24"
      },
      "text/html": [
       "<div>\n",
       "<style scoped>\n",
       "    .dataframe tbody tr th:only-of-type {\n",
       "        vertical-align: middle;\n",
       "    }\n",
       "\n",
       "    .dataframe tbody tr th {\n",
       "        vertical-align: top;\n",
       "    }\n",
       "\n",
       "    .dataframe thead th {\n",
       "        text-align: right;\n",
       "    }\n",
       "</style>\n",
       "<table border=\"1\" class=\"dataframe\">\n",
       "  <thead>\n",
       "    <tr style=\"text-align: right;\">\n",
       "      <th></th>\n",
       "      <th>name_number</th>\n",
       "      <th>date_time</th>\n",
       "      <th>message_body</th>\n",
       "      <th>year</th>\n",
       "      <th>month</th>\n",
       "      <th>day</th>\n",
       "      <th>hour</th>\n",
       "      <th>category</th>\n",
       "    </tr>\n",
       "  </thead>\n",
       "  <tbody>\n",
       "    <tr>\n",
       "      <th>0</th>\n",
       "      <td>StanChart</td>\n",
       "      <td>2018-10-31 06:01:00</td>\n",
       "      <td>KES 5342.00 was transfered from Acc. ending 60...</td>\n",
       "      <td>2018</td>\n",
       "      <td>10</td>\n",
       "      <td>31</td>\n",
       "      <td>6</td>\n",
       "      <td>FINANCIAL</td>\n",
       "    </tr>\n",
       "    <tr>\n",
       "      <th>1</th>\n",
       "      <td>ZUKU</td>\n",
       "      <td>2018-10-01 11:39:00</td>\n",
       "      <td>Dear Client. Following publication of Finance ...</td>\n",
       "      <td>2018</td>\n",
       "      <td>10</td>\n",
       "      <td>1</td>\n",
       "      <td>11</td>\n",
       "      <td>INFO</td>\n",
       "    </tr>\n",
       "    <tr>\n",
       "      <th>2</th>\n",
       "      <td>Safaricom</td>\n",
       "      <td>2018-12-17 07:57:00</td>\n",
       "      <td>Congratulations! You have received 25.00 KSH S...</td>\n",
       "      <td>2018</td>\n",
       "      <td>12</td>\n",
       "      <td>17</td>\n",
       "      <td>7</td>\n",
       "      <td>INFO</td>\n",
       "    </tr>\n",
       "    <tr>\n",
       "      <th>3</th>\n",
       "      <td>MALL4AFRICA</td>\n",
       "      <td>2018-10-30 16:16:00</td>\n",
       "      <td>THE CHEAPEST SHIPPING PROMOTION is live! Shop ...</td>\n",
       "      <td>2018</td>\n",
       "      <td>10</td>\n",
       "      <td>30</td>\n",
       "      <td>16</td>\n",
       "      <td>INFO</td>\n",
       "    </tr>\n",
       "    <tr>\n",
       "      <th>4</th>\n",
       "      <td>Ashraf (+254720988242)</td>\n",
       "      <td>2018-10-08 17:57:00</td>\n",
       "      <td>Thanks Josiah for info we first sort our plot ...</td>\n",
       "      <td>2018</td>\n",
       "      <td>10</td>\n",
       "      <td>8</td>\n",
       "      <td>17</td>\n",
       "      <td>PEOPLE</td>\n",
       "    </tr>\n",
       "    <tr>\n",
       "      <th>...</th>\n",
       "      <td>...</td>\n",
       "      <td>...</td>\n",
       "      <td>...</td>\n",
       "      <td>...</td>\n",
       "      <td>...</td>\n",
       "      <td>...</td>\n",
       "      <td>...</td>\n",
       "      <td>...</td>\n",
       "    </tr>\n",
       "    <tr>\n",
       "      <th>148</th>\n",
       "      <td>Kuki (+254714703764)</td>\n",
       "      <td>2018-12-28 18:11:00</td>\n",
       "      <td>thanx 4 the credo</td>\n",
       "      <td>2018</td>\n",
       "      <td>12</td>\n",
       "      <td>28</td>\n",
       "      <td>18</td>\n",
       "      <td>PEOPLE</td>\n",
       "    </tr>\n",
       "    <tr>\n",
       "      <th>149</th>\n",
       "      <td>StanChart</td>\n",
       "      <td>2018-09-12 19:31:00</td>\n",
       "      <td>You are adding WANG XIN MEI as a beneficiary o...</td>\n",
       "      <td>2018</td>\n",
       "      <td>9</td>\n",
       "      <td>12</td>\n",
       "      <td>19</td>\n",
       "      <td>FINANCIAL</td>\n",
       "    </tr>\n",
       "    <tr>\n",
       "      <th>150</th>\n",
       "      <td>Sam Gitau (+254723539381)</td>\n",
       "      <td>2018-10-18 06:05:00</td>\n",
       "      <td>Okay, thanks</td>\n",
       "      <td>2018</td>\n",
       "      <td>10</td>\n",
       "      <td>18</td>\n",
       "      <td>6</td>\n",
       "      <td>PEOPLE</td>\n",
       "    </tr>\n",
       "    <tr>\n",
       "      <th>151</th>\n",
       "      <td>22429</td>\n",
       "      <td>2018-12-07 09:38:00</td>\n",
       "      <td>Is your passport lost or damaged? Getting a re...</td>\n",
       "      <td>2018</td>\n",
       "      <td>12</td>\n",
       "      <td>7</td>\n",
       "      <td>9</td>\n",
       "      <td>INFO</td>\n",
       "    </tr>\n",
       "    <tr>\n",
       "      <th>152</th>\n",
       "      <td>Marsha Macharia (+254721234928)</td>\n",
       "      <td>2018-12-18 16:47:00</td>\n",
       "      <td>Noooo :( I'm going back tomorrow for the resul...</td>\n",
       "      <td>2018</td>\n",
       "      <td>12</td>\n",
       "      <td>18</td>\n",
       "      <td>16</td>\n",
       "      <td>PEOPLE</td>\n",
       "    </tr>\n",
       "  </tbody>\n",
       "</table>\n",
       "<p>153 rows × 8 columns</p>\n",
       "</div>"
      ],
      "text/plain": [
       "                         name_number           date_time  \\\n",
       "0                          StanChart 2018-10-31 06:01:00   \n",
       "1                               ZUKU 2018-10-01 11:39:00   \n",
       "2                          Safaricom 2018-12-17 07:57:00   \n",
       "3                        MALL4AFRICA 2018-10-30 16:16:00   \n",
       "4             Ashraf (+254720988242) 2018-10-08 17:57:00   \n",
       "..                               ...                 ...   \n",
       "148             Kuki (+254714703764) 2018-12-28 18:11:00   \n",
       "149                        StanChart 2018-09-12 19:31:00   \n",
       "150        Sam Gitau (+254723539381) 2018-10-18 06:05:00   \n",
       "151                            22429 2018-12-07 09:38:00   \n",
       "152  Marsha Macharia (+254721234928) 2018-12-18 16:47:00   \n",
       "\n",
       "                                          message_body  year  month  day  \\\n",
       "0    KES 5342.00 was transfered from Acc. ending 60...  2018     10   31   \n",
       "1    Dear Client. Following publication of Finance ...  2018     10    1   \n",
       "2    Congratulations! You have received 25.00 KSH S...  2018     12   17   \n",
       "3    THE CHEAPEST SHIPPING PROMOTION is live! Shop ...  2018     10   30   \n",
       "4    Thanks Josiah for info we first sort our plot ...  2018     10    8   \n",
       "..                                                 ...   ...    ...  ...   \n",
       "148                                  thanx 4 the credo  2018     12   28   \n",
       "149  You are adding WANG XIN MEI as a beneficiary o...  2018      9   12   \n",
       "150                                       Okay, thanks  2018     10   18   \n",
       "151  Is your passport lost or damaged? Getting a re...  2018     12    7   \n",
       "152  Noooo :( I'm going back tomorrow for the resul...  2018     12   18   \n",
       "\n",
       "     hour   category  \n",
       "0       6  FINANCIAL  \n",
       "1      11       INFO  \n",
       "2       7       INFO  \n",
       "3      16       INFO  \n",
       "4      17     PEOPLE  \n",
       "..    ...        ...  \n",
       "148    18     PEOPLE  \n",
       "149    19  FINANCIAL  \n",
       "150     6     PEOPLE  \n",
       "151     9       INFO  \n",
       "152    16     PEOPLE  \n",
       "\n",
       "[153 rows x 8 columns]"
      ]
     },
     "metadata": {},
     "output_type": "display_data"
    }
   ],
   "source": [
    "df_small2018"
   ]
  },
  {
   "cell_type": "code",
   "execution_count": 58,
   "metadata": {},
   "outputs": [],
   "source": [
    "df_small2018 = pd.read_csv(file_work_small2018_csv)"
   ]
  },
  {
   "cell_type": "code",
   "execution_count": 64,
   "metadata": {},
   "outputs": [],
   "source": [
    "df_small2018 = df_small2018.iloc[: , 1:]"
   ]
  },
  {
   "cell_type": "code",
   "execution_count": 66,
   "metadata": {
    "collapsed": true,
    "jupyter": {
     "outputs_hidden": true,
     "source_hidden": true
    },
    "tags": []
   },
   "outputs": [
    {
     "name": "stdout",
     "output_type": "stream",
     "text": [
      "<class 'pandas.core.frame.DataFrame'>\n",
      "RangeIndex: 153 entries, 0 to 152\n",
      "Data columns (total 8 columns):\n",
      " #   Column        Non-Null Count  Dtype         \n",
      "---  ------        --------------  -----         \n",
      " 0   name_number   153 non-null    string        \n",
      " 1   date_time     153 non-null    datetime64[ns]\n",
      " 2   message_body  153 non-null    string        \n",
      " 3   year          153 non-null    int64         \n",
      " 4   month         153 non-null    int64         \n",
      " 5   day           153 non-null    int64         \n",
      " 6   hour          153 non-null    int64         \n",
      " 7   category      153 non-null    category      \n",
      "dtypes: category(1), datetime64[ns](1), int64(4), string(2)\n",
      "memory usage: 8.8 KB\n"
     ]
    }
   ],
   "source": [
    "df_small2018.info()"
   ]
  },
  {
   "cell_type": "code",
   "execution_count": 61,
   "metadata": {},
   "outputs": [],
   "source": [
    "df_small2018['date_time'] = pd.to_datetime(df_small2018['date_time'], infer_datetime_format=True)\n",
    "df_small2018['name_number'] = df_small2018['name_number'].astype('string')\n",
    "df_small2018['message_body'] = df_small2018['message_body'].astype('string')\n",
    "df_small2018['category'] = df_small2018['category'].astype('category')"
   ]
  },
  {
   "cell_type": "code",
   "execution_count": null,
   "metadata": {},
   "outputs": [],
   "source": []
  },
  {
   "cell_type": "code",
   "execution_count": 67,
   "metadata": {},
   "outputs": [],
   "source": [
    "# Refreshing how to do train / test selections\n",
    "# option 1 - will try train + test with this sampling \n",
    "df_train_2018 = df_small2018.sample(frac=0.8,random_state=200).reset_index(drop=True) #random state is a seed value\n",
    "df_test_2018 =  df_small2018.drop(df_train_2018.index).reset_index(drop=True)\n",
    "\n",
    "\n"
   ]
  },
  {
   "cell_type": "code",
   "execution_count": 68,
   "metadata": {
    "tags": []
   },
   "outputs": [
    {
     "data": {
      "application/vnd.jupyter.widget-view+json": {
       "model_id": "525993615a6f47fa8f2d04833d091f79"
      },
      "text/html": [
       "<div>\n",
       "<style scoped>\n",
       "    .dataframe tbody tr th:only-of-type {\n",
       "        vertical-align: middle;\n",
       "    }\n",
       "\n",
       "    .dataframe tbody tr th {\n",
       "        vertical-align: top;\n",
       "    }\n",
       "\n",
       "    .dataframe thead th {\n",
       "        text-align: right;\n",
       "    }\n",
       "</style>\n",
       "<table border=\"1\" class=\"dataframe\">\n",
       "  <thead>\n",
       "    <tr style=\"text-align: right;\">\n",
       "      <th></th>\n",
       "      <th>name_number</th>\n",
       "      <th>date_time</th>\n",
       "      <th>message_body</th>\n",
       "      <th>year</th>\n",
       "      <th>month</th>\n",
       "      <th>day</th>\n",
       "      <th>hour</th>\n",
       "      <th>category</th>\n",
       "    </tr>\n",
       "  </thead>\n",
       "  <tbody>\n",
       "    <tr>\n",
       "      <th>0</th>\n",
       "      <td>Rael Mugambi (+254722913252)</td>\n",
       "      <td>2018-08-22 15:49:00</td>\n",
       "      <td>Or we do the thing on 25th for your folks?</td>\n",
       "      <td>2018</td>\n",
       "      <td>8</td>\n",
       "      <td>22</td>\n",
       "      <td>15</td>\n",
       "      <td>PEOPLE</td>\n",
       "    </tr>\n",
       "    <tr>\n",
       "      <th>1</th>\n",
       "      <td>2.54713E+11</td>\n",
       "      <td>2018-09-27 06:20:00</td>\n",
       "      <td>We are already on the ground.</td>\n",
       "      <td>2018</td>\n",
       "      <td>9</td>\n",
       "      <td>27</td>\n",
       "      <td>6</td>\n",
       "      <td>PEOPLE</td>\n",
       "    </tr>\n",
       "    <tr>\n",
       "      <th>2</th>\n",
       "      <td>StanChart</td>\n",
       "      <td>2018-09-05 15:13:00</td>\n",
       "      <td>KES 1750.00 transaction was made on card endin...</td>\n",
       "      <td>2018</td>\n",
       "      <td>9</td>\n",
       "      <td>5</td>\n",
       "      <td>15</td>\n",
       "      <td>FINANCIAL</td>\n",
       "    </tr>\n",
       "    <tr>\n",
       "      <th>3</th>\n",
       "      <td>NICBANK</td>\n",
       "      <td>2018-10-09 14:51:00</td>\n",
       "      <td>Dear JOSIAH, a transaction of KES 103.98 done ...</td>\n",
       "      <td>2018</td>\n",
       "      <td>10</td>\n",
       "      <td>9</td>\n",
       "      <td>14</td>\n",
       "      <td>FINANCIAL</td>\n",
       "    </tr>\n",
       "    <tr>\n",
       "      <th>4</th>\n",
       "      <td>BAUSOPTICAL</td>\n",
       "      <td>2018-12-07 11:05:00</td>\n",
       "      <td>Merry Christmas, visit our china center branch...</td>\n",
       "      <td>2018</td>\n",
       "      <td>12</td>\n",
       "      <td>7</td>\n",
       "      <td>11</td>\n",
       "      <td>INFO</td>\n",
       "    </tr>\n",
       "    <tr>\n",
       "      <th>...</th>\n",
       "      <td>...</td>\n",
       "      <td>...</td>\n",
       "      <td>...</td>\n",
       "      <td>...</td>\n",
       "      <td>...</td>\n",
       "      <td>...</td>\n",
       "      <td>...</td>\n",
       "      <td>...</td>\n",
       "    </tr>\n",
       "    <tr>\n",
       "      <th>117</th>\n",
       "      <td>22429</td>\n",
       "      <td>2018-10-17 13:54:00</td>\n",
       "      <td>When applying for your e-Passport, please ensu...</td>\n",
       "      <td>2018</td>\n",
       "      <td>10</td>\n",
       "      <td>17</td>\n",
       "      <td>13</td>\n",
       "      <td>INFO</td>\n",
       "    </tr>\n",
       "    <tr>\n",
       "      <th>118</th>\n",
       "      <td>MPESA</td>\n",
       "      <td>2018-10-01 12:03:00</td>\n",
       "      <td>MJ16YP2E4M Confirmed. Ksh1,600.00 paid to BUY ...</td>\n",
       "      <td>2018</td>\n",
       "      <td>10</td>\n",
       "      <td>1</td>\n",
       "      <td>12</td>\n",
       "      <td>FINANCIAL</td>\n",
       "    </tr>\n",
       "    <tr>\n",
       "      <th>119</th>\n",
       "      <td>SBMBANK</td>\n",
       "      <td>2018-09-29 05:03:00</td>\n",
       "      <td>Dear Customer, following gazettement of the Fi...</td>\n",
       "      <td>2018</td>\n",
       "      <td>9</td>\n",
       "      <td>29</td>\n",
       "      <td>5</td>\n",
       "      <td>FINANCIAL</td>\n",
       "    </tr>\n",
       "    <tr>\n",
       "      <th>120</th>\n",
       "      <td>CBALOOP</td>\n",
       "      <td>2018-09-12 13:49:00</td>\n",
       "      <td>Hi Josiah, what can you do with 1GB of data? T...</td>\n",
       "      <td>2018</td>\n",
       "      <td>9</td>\n",
       "      <td>12</td>\n",
       "      <td>13</td>\n",
       "      <td>FINANCIAL</td>\n",
       "    </tr>\n",
       "    <tr>\n",
       "      <th>121</th>\n",
       "      <td>Telkom</td>\n",
       "      <td>2018-09-25 11:44:00</td>\n",
       "      <td>Special Offer Just for you! Top up your line t...</td>\n",
       "      <td>2018</td>\n",
       "      <td>9</td>\n",
       "      <td>25</td>\n",
       "      <td>11</td>\n",
       "      <td>INFO</td>\n",
       "    </tr>\n",
       "  </tbody>\n",
       "</table>\n",
       "<p>122 rows × 8 columns</p>\n",
       "</div>"
      ],
      "text/plain": [
       "                      name_number           date_time  \\\n",
       "0    Rael Mugambi (+254722913252) 2018-08-22 15:49:00   \n",
       "1                     2.54713E+11 2018-09-27 06:20:00   \n",
       "2                       StanChart 2018-09-05 15:13:00   \n",
       "3                         NICBANK 2018-10-09 14:51:00   \n",
       "4                     BAUSOPTICAL 2018-12-07 11:05:00   \n",
       "..                            ...                 ...   \n",
       "117                         22429 2018-10-17 13:54:00   \n",
       "118                         MPESA 2018-10-01 12:03:00   \n",
       "119                       SBMBANK 2018-09-29 05:03:00   \n",
       "120                       CBALOOP 2018-09-12 13:49:00   \n",
       "121                        Telkom 2018-09-25 11:44:00   \n",
       "\n",
       "                                          message_body  year  month  day  \\\n",
       "0           Or we do the thing on 25th for your folks?  2018      8   22   \n",
       "1                        We are already on the ground.  2018      9   27   \n",
       "2    KES 1750.00 transaction was made on card endin...  2018      9    5   \n",
       "3    Dear JOSIAH, a transaction of KES 103.98 done ...  2018     10    9   \n",
       "4    Merry Christmas, visit our china center branch...  2018     12    7   \n",
       "..                                                 ...   ...    ...  ...   \n",
       "117  When applying for your e-Passport, please ensu...  2018     10   17   \n",
       "118  MJ16YP2E4M Confirmed. Ksh1,600.00 paid to BUY ...  2018     10    1   \n",
       "119  Dear Customer, following gazettement of the Fi...  2018      9   29   \n",
       "120  Hi Josiah, what can you do with 1GB of data? T...  2018      9   12   \n",
       "121  Special Offer Just for you! Top up your line t...  2018      9   25   \n",
       "\n",
       "     hour   category  \n",
       "0      15     PEOPLE  \n",
       "1       6     PEOPLE  \n",
       "2      15  FINANCIAL  \n",
       "3      14  FINANCIAL  \n",
       "4      11       INFO  \n",
       "..    ...        ...  \n",
       "117    13       INFO  \n",
       "118    12  FINANCIAL  \n",
       "119     5  FINANCIAL  \n",
       "120    13  FINANCIAL  \n",
       "121    11       INFO  \n",
       "\n",
       "[122 rows x 8 columns]"
      ]
     },
     "metadata": {},
     "output_type": "display_data"
    }
   ],
   "source": [
    "df_train_2018"
   ]
  },
  {
   "cell_type": "code",
   "execution_count": null,
   "metadata": {},
   "outputs": [],
   "source": [
    "df_test_2018"
   ]
  },
  {
   "cell_type": "code",
   "execution_count": 70,
   "metadata": {},
   "outputs": [],
   "source": [
    "# Manually categorize via a spreadsheet (I'm sure there are other options) so first dump the file to a csv:\n",
    "\n",
    "df_train_2018.to_pickle(file_train_2018_pkl)\n",
    "df_train_2018.to_csv(file_train_2018_csv)\n",
    "\n"
   ]
  },
  {
   "cell_type": "code",
   "execution_count": null,
   "metadata": {},
   "outputs": [],
   "source": []
  },
  {
   "cell_type": "code",
   "execution_count": 42,
   "metadata": {},
   "outputs": [],
   "source": [
    "df_train_2018 = pd.read_csv(file_train_2018_csv)\n",
    "\n",
    "#df_train_2018 = pd.read_pickle(file_train_2018_pkl)\n",
    "\n",
    "\n",
    "\n"
   ]
  },
  {
   "cell_type": "code",
   "execution_count": 71,
   "metadata": {},
   "outputs": [],
   "source": [
    "# First attempt a random forest classifier with minimum tinkering of various parameters:\n",
    "# https://scikit-learn.org/stable/modules/generated/sklearn.ensemble.RandomForestClassifier.html#sklearn.ensemble.RandomForestClassifier\n",
    "\n",
    "from sklearn.ensemble import RandomForestClassifier\n",
    "\n",
    "clf = RandomForestClassifier(max_depth=2, random_state=0)\n",
    "X = df_train_2018.drop('category', axis=1)\n",
    "y = df_train_2018['category']\n",
    "\n",
    "\n"
   ]
  },
  {
   "cell_type": "code",
   "execution_count": 72,
   "metadata": {},
   "outputs": [
    {
     "ename": "ValueError",
     "evalue": "could not convert string to float: 'Rael Mugambi (+254722913252)'",
     "output_type": "error",
     "traceback": [
      "\u001b[0;31m---------------------------------------------------------------------------\u001b[0m",
      "\u001b[0;31mValueError\u001b[0m                                Traceback (most recent call last)",
      "\u001b[0;32m/var/folders/d9/cr96dwt53pvbj8jy5ynxf4yh0000gn/T/ipykernel_8326/714720739.py\u001b[0m in \u001b[0;36m<module>\u001b[0;34m\u001b[0m\n\u001b[1;32m      1\u001b[0m \u001b[0;31m#\u001b[0m\u001b[0;34m\u001b[0m\u001b[0;34m\u001b[0m\u001b[0;34m\u001b[0m\u001b[0m\n\u001b[0;32m----> 2\u001b[0;31m \u001b[0mclf\u001b[0m\u001b[0;34m.\u001b[0m\u001b[0mfit\u001b[0m\u001b[0;34m(\u001b[0m\u001b[0mX\u001b[0m\u001b[0;34m,\u001b[0m \u001b[0my\u001b[0m\u001b[0;34m)\u001b[0m\u001b[0;34m\u001b[0m\u001b[0;34m\u001b[0m\u001b[0m\n\u001b[0m",
      "\u001b[0;32m~/tools/miniconda3/lib/python3.9/site-packages/sklearn/ensemble/_forest.py\u001b[0m in \u001b[0;36mfit\u001b[0;34m(self, X, y, sample_weight)\u001b[0m\n\u001b[1;32m    302\u001b[0m                 \u001b[0;34m\"sparse multilabel-indicator for y is not supported.\"\u001b[0m\u001b[0;34m\u001b[0m\u001b[0;34m\u001b[0m\u001b[0m\n\u001b[1;32m    303\u001b[0m             )\n\u001b[0;32m--> 304\u001b[0;31m         X, y = self._validate_data(X, y, multi_output=True,\n\u001b[0m\u001b[1;32m    305\u001b[0m                                    accept_sparse=\"csc\", dtype=DTYPE)\n\u001b[1;32m    306\u001b[0m         \u001b[0;32mif\u001b[0m \u001b[0msample_weight\u001b[0m \u001b[0;32mis\u001b[0m \u001b[0;32mnot\u001b[0m \u001b[0;32mNone\u001b[0m\u001b[0;34m:\u001b[0m\u001b[0;34m\u001b[0m\u001b[0;34m\u001b[0m\u001b[0m\n",
      "\u001b[0;32m~/tools/miniconda3/lib/python3.9/site-packages/sklearn/base.py\u001b[0m in \u001b[0;36m_validate_data\u001b[0;34m(self, X, y, reset, validate_separately, **check_params)\u001b[0m\n\u001b[1;32m    431\u001b[0m                 \u001b[0my\u001b[0m \u001b[0;34m=\u001b[0m \u001b[0mcheck_array\u001b[0m\u001b[0;34m(\u001b[0m\u001b[0my\u001b[0m\u001b[0;34m,\u001b[0m \u001b[0;34m**\u001b[0m\u001b[0mcheck_y_params\u001b[0m\u001b[0;34m)\u001b[0m\u001b[0;34m\u001b[0m\u001b[0;34m\u001b[0m\u001b[0m\n\u001b[1;32m    432\u001b[0m             \u001b[0;32melse\u001b[0m\u001b[0;34m:\u001b[0m\u001b[0;34m\u001b[0m\u001b[0;34m\u001b[0m\u001b[0m\n\u001b[0;32m--> 433\u001b[0;31m                 \u001b[0mX\u001b[0m\u001b[0;34m,\u001b[0m \u001b[0my\u001b[0m \u001b[0;34m=\u001b[0m \u001b[0mcheck_X_y\u001b[0m\u001b[0;34m(\u001b[0m\u001b[0mX\u001b[0m\u001b[0;34m,\u001b[0m \u001b[0my\u001b[0m\u001b[0;34m,\u001b[0m \u001b[0;34m**\u001b[0m\u001b[0mcheck_params\u001b[0m\u001b[0;34m)\u001b[0m\u001b[0;34m\u001b[0m\u001b[0;34m\u001b[0m\u001b[0m\n\u001b[0m\u001b[1;32m    434\u001b[0m             \u001b[0mout\u001b[0m \u001b[0;34m=\u001b[0m \u001b[0mX\u001b[0m\u001b[0;34m,\u001b[0m \u001b[0my\u001b[0m\u001b[0;34m\u001b[0m\u001b[0;34m\u001b[0m\u001b[0m\n\u001b[1;32m    435\u001b[0m \u001b[0;34m\u001b[0m\u001b[0m\n",
      "\u001b[0;32m~/tools/miniconda3/lib/python3.9/site-packages/sklearn/utils/validation.py\u001b[0m in \u001b[0;36minner_f\u001b[0;34m(*args, **kwargs)\u001b[0m\n\u001b[1;32m     61\u001b[0m             \u001b[0mextra_args\u001b[0m \u001b[0;34m=\u001b[0m \u001b[0mlen\u001b[0m\u001b[0;34m(\u001b[0m\u001b[0margs\u001b[0m\u001b[0;34m)\u001b[0m \u001b[0;34m-\u001b[0m \u001b[0mlen\u001b[0m\u001b[0;34m(\u001b[0m\u001b[0mall_args\u001b[0m\u001b[0;34m)\u001b[0m\u001b[0;34m\u001b[0m\u001b[0;34m\u001b[0m\u001b[0m\n\u001b[1;32m     62\u001b[0m             \u001b[0;32mif\u001b[0m \u001b[0mextra_args\u001b[0m \u001b[0;34m<=\u001b[0m \u001b[0;36m0\u001b[0m\u001b[0;34m:\u001b[0m\u001b[0;34m\u001b[0m\u001b[0;34m\u001b[0m\u001b[0m\n\u001b[0;32m---> 63\u001b[0;31m                 \u001b[0;32mreturn\u001b[0m \u001b[0mf\u001b[0m\u001b[0;34m(\u001b[0m\u001b[0;34m*\u001b[0m\u001b[0margs\u001b[0m\u001b[0;34m,\u001b[0m \u001b[0;34m**\u001b[0m\u001b[0mkwargs\u001b[0m\u001b[0;34m)\u001b[0m\u001b[0;34m\u001b[0m\u001b[0;34m\u001b[0m\u001b[0m\n\u001b[0m\u001b[1;32m     64\u001b[0m \u001b[0;34m\u001b[0m\u001b[0m\n\u001b[1;32m     65\u001b[0m             \u001b[0;31m# extra_args > 0\u001b[0m\u001b[0;34m\u001b[0m\u001b[0;34m\u001b[0m\u001b[0;34m\u001b[0m\u001b[0m\n",
      "\u001b[0;32m~/tools/miniconda3/lib/python3.9/site-packages/sklearn/utils/validation.py\u001b[0m in \u001b[0;36mcheck_X_y\u001b[0;34m(X, y, accept_sparse, accept_large_sparse, dtype, order, copy, force_all_finite, ensure_2d, allow_nd, multi_output, ensure_min_samples, ensure_min_features, y_numeric, estimator)\u001b[0m\n\u001b[1;32m    869\u001b[0m         \u001b[0;32mraise\u001b[0m \u001b[0mValueError\u001b[0m\u001b[0;34m(\u001b[0m\u001b[0;34m\"y cannot be None\"\u001b[0m\u001b[0;34m)\u001b[0m\u001b[0;34m\u001b[0m\u001b[0;34m\u001b[0m\u001b[0m\n\u001b[1;32m    870\u001b[0m \u001b[0;34m\u001b[0m\u001b[0m\n\u001b[0;32m--> 871\u001b[0;31m     X = check_array(X, accept_sparse=accept_sparse,\n\u001b[0m\u001b[1;32m    872\u001b[0m                     \u001b[0maccept_large_sparse\u001b[0m\u001b[0;34m=\u001b[0m\u001b[0maccept_large_sparse\u001b[0m\u001b[0;34m,\u001b[0m\u001b[0;34m\u001b[0m\u001b[0;34m\u001b[0m\u001b[0m\n\u001b[1;32m    873\u001b[0m                     \u001b[0mdtype\u001b[0m\u001b[0;34m=\u001b[0m\u001b[0mdtype\u001b[0m\u001b[0;34m,\u001b[0m \u001b[0morder\u001b[0m\u001b[0;34m=\u001b[0m\u001b[0morder\u001b[0m\u001b[0;34m,\u001b[0m \u001b[0mcopy\u001b[0m\u001b[0;34m=\u001b[0m\u001b[0mcopy\u001b[0m\u001b[0;34m,\u001b[0m\u001b[0;34m\u001b[0m\u001b[0;34m\u001b[0m\u001b[0m\n",
      "\u001b[0;32m~/tools/miniconda3/lib/python3.9/site-packages/sklearn/utils/validation.py\u001b[0m in \u001b[0;36minner_f\u001b[0;34m(*args, **kwargs)\u001b[0m\n\u001b[1;32m     61\u001b[0m             \u001b[0mextra_args\u001b[0m \u001b[0;34m=\u001b[0m \u001b[0mlen\u001b[0m\u001b[0;34m(\u001b[0m\u001b[0margs\u001b[0m\u001b[0;34m)\u001b[0m \u001b[0;34m-\u001b[0m \u001b[0mlen\u001b[0m\u001b[0;34m(\u001b[0m\u001b[0mall_args\u001b[0m\u001b[0;34m)\u001b[0m\u001b[0;34m\u001b[0m\u001b[0;34m\u001b[0m\u001b[0m\n\u001b[1;32m     62\u001b[0m             \u001b[0;32mif\u001b[0m \u001b[0mextra_args\u001b[0m \u001b[0;34m<=\u001b[0m \u001b[0;36m0\u001b[0m\u001b[0;34m:\u001b[0m\u001b[0;34m\u001b[0m\u001b[0;34m\u001b[0m\u001b[0m\n\u001b[0;32m---> 63\u001b[0;31m                 \u001b[0;32mreturn\u001b[0m \u001b[0mf\u001b[0m\u001b[0;34m(\u001b[0m\u001b[0;34m*\u001b[0m\u001b[0margs\u001b[0m\u001b[0;34m,\u001b[0m \u001b[0;34m**\u001b[0m\u001b[0mkwargs\u001b[0m\u001b[0;34m)\u001b[0m\u001b[0;34m\u001b[0m\u001b[0;34m\u001b[0m\u001b[0m\n\u001b[0m\u001b[1;32m     64\u001b[0m \u001b[0;34m\u001b[0m\u001b[0m\n\u001b[1;32m     65\u001b[0m             \u001b[0;31m# extra_args > 0\u001b[0m\u001b[0;34m\u001b[0m\u001b[0;34m\u001b[0m\u001b[0;34m\u001b[0m\u001b[0m\n",
      "\u001b[0;32m~/tools/miniconda3/lib/python3.9/site-packages/sklearn/utils/validation.py\u001b[0m in \u001b[0;36mcheck_array\u001b[0;34m(array, accept_sparse, accept_large_sparse, dtype, order, copy, force_all_finite, ensure_2d, allow_nd, ensure_min_samples, ensure_min_features, estimator)\u001b[0m\n\u001b[1;32m    671\u001b[0m                     \u001b[0marray\u001b[0m \u001b[0;34m=\u001b[0m \u001b[0marray\u001b[0m\u001b[0;34m.\u001b[0m\u001b[0mastype\u001b[0m\u001b[0;34m(\u001b[0m\u001b[0mdtype\u001b[0m\u001b[0;34m,\u001b[0m \u001b[0mcasting\u001b[0m\u001b[0;34m=\u001b[0m\u001b[0;34m\"unsafe\"\u001b[0m\u001b[0;34m,\u001b[0m \u001b[0mcopy\u001b[0m\u001b[0;34m=\u001b[0m\u001b[0;32mFalse\u001b[0m\u001b[0;34m)\u001b[0m\u001b[0;34m\u001b[0m\u001b[0;34m\u001b[0m\u001b[0m\n\u001b[1;32m    672\u001b[0m                 \u001b[0;32melse\u001b[0m\u001b[0;34m:\u001b[0m\u001b[0;34m\u001b[0m\u001b[0;34m\u001b[0m\u001b[0m\n\u001b[0;32m--> 673\u001b[0;31m                     \u001b[0marray\u001b[0m \u001b[0;34m=\u001b[0m \u001b[0mnp\u001b[0m\u001b[0;34m.\u001b[0m\u001b[0masarray\u001b[0m\u001b[0;34m(\u001b[0m\u001b[0marray\u001b[0m\u001b[0;34m,\u001b[0m \u001b[0morder\u001b[0m\u001b[0;34m=\u001b[0m\u001b[0morder\u001b[0m\u001b[0;34m,\u001b[0m \u001b[0mdtype\u001b[0m\u001b[0;34m=\u001b[0m\u001b[0mdtype\u001b[0m\u001b[0;34m)\u001b[0m\u001b[0;34m\u001b[0m\u001b[0;34m\u001b[0m\u001b[0m\n\u001b[0m\u001b[1;32m    674\u001b[0m             \u001b[0;32mexcept\u001b[0m \u001b[0mComplexWarning\u001b[0m \u001b[0;32mas\u001b[0m \u001b[0mcomplex_warning\u001b[0m\u001b[0;34m:\u001b[0m\u001b[0;34m\u001b[0m\u001b[0;34m\u001b[0m\u001b[0m\n\u001b[1;32m    675\u001b[0m                 raise ValueError(\"Complex data not supported\\n\"\n",
      "\u001b[0;32m~/tools/miniconda3/lib/python3.9/site-packages/numpy/core/_asarray.py\u001b[0m in \u001b[0;36masarray\u001b[0;34m(a, dtype, order)\u001b[0m\n\u001b[1;32m     81\u001b[0m \u001b[0;34m\u001b[0m\u001b[0m\n\u001b[1;32m     82\u001b[0m     \"\"\"\n\u001b[0;32m---> 83\u001b[0;31m     \u001b[0;32mreturn\u001b[0m \u001b[0marray\u001b[0m\u001b[0;34m(\u001b[0m\u001b[0ma\u001b[0m\u001b[0;34m,\u001b[0m \u001b[0mdtype\u001b[0m\u001b[0;34m,\u001b[0m \u001b[0mcopy\u001b[0m\u001b[0;34m=\u001b[0m\u001b[0;32mFalse\u001b[0m\u001b[0;34m,\u001b[0m \u001b[0morder\u001b[0m\u001b[0;34m=\u001b[0m\u001b[0morder\u001b[0m\u001b[0;34m)\u001b[0m\u001b[0;34m\u001b[0m\u001b[0;34m\u001b[0m\u001b[0m\n\u001b[0m\u001b[1;32m     84\u001b[0m \u001b[0;34m\u001b[0m\u001b[0m\n\u001b[1;32m     85\u001b[0m \u001b[0;34m\u001b[0m\u001b[0m\n",
      "\u001b[0;32m~/tools/miniconda3/lib/python3.9/site-packages/pandas/core/generic.py\u001b[0m in \u001b[0;36m__array__\u001b[0;34m(self, dtype)\u001b[0m\n\u001b[1;32m   1991\u001b[0m \u001b[0;34m\u001b[0m\u001b[0m\n\u001b[1;32m   1992\u001b[0m     \u001b[0;32mdef\u001b[0m \u001b[0m__array__\u001b[0m\u001b[0;34m(\u001b[0m\u001b[0mself\u001b[0m\u001b[0;34m,\u001b[0m \u001b[0mdtype\u001b[0m\u001b[0;34m:\u001b[0m \u001b[0mNpDtype\u001b[0m \u001b[0;34m|\u001b[0m \u001b[0;32mNone\u001b[0m \u001b[0;34m=\u001b[0m \u001b[0;32mNone\u001b[0m\u001b[0;34m)\u001b[0m \u001b[0;34m->\u001b[0m \u001b[0mnp\u001b[0m\u001b[0;34m.\u001b[0m\u001b[0mndarray\u001b[0m\u001b[0;34m:\u001b[0m\u001b[0;34m\u001b[0m\u001b[0;34m\u001b[0m\u001b[0m\n\u001b[0;32m-> 1993\u001b[0;31m         \u001b[0;32mreturn\u001b[0m \u001b[0mnp\u001b[0m\u001b[0;34m.\u001b[0m\u001b[0masarray\u001b[0m\u001b[0;34m(\u001b[0m\u001b[0mself\u001b[0m\u001b[0;34m.\u001b[0m\u001b[0m_values\u001b[0m\u001b[0;34m,\u001b[0m \u001b[0mdtype\u001b[0m\u001b[0;34m=\u001b[0m\u001b[0mdtype\u001b[0m\u001b[0;34m)\u001b[0m\u001b[0;34m\u001b[0m\u001b[0;34m\u001b[0m\u001b[0m\n\u001b[0m\u001b[1;32m   1994\u001b[0m \u001b[0;34m\u001b[0m\u001b[0m\n\u001b[1;32m   1995\u001b[0m     def __array_wrap__(\n",
      "\u001b[0;32m~/tools/miniconda3/lib/python3.9/site-packages/numpy/core/_asarray.py\u001b[0m in \u001b[0;36masarray\u001b[0;34m(a, dtype, order)\u001b[0m\n\u001b[1;32m     81\u001b[0m \u001b[0;34m\u001b[0m\u001b[0m\n\u001b[1;32m     82\u001b[0m     \"\"\"\n\u001b[0;32m---> 83\u001b[0;31m     \u001b[0;32mreturn\u001b[0m \u001b[0marray\u001b[0m\u001b[0;34m(\u001b[0m\u001b[0ma\u001b[0m\u001b[0;34m,\u001b[0m \u001b[0mdtype\u001b[0m\u001b[0;34m,\u001b[0m \u001b[0mcopy\u001b[0m\u001b[0;34m=\u001b[0m\u001b[0;32mFalse\u001b[0m\u001b[0;34m,\u001b[0m \u001b[0morder\u001b[0m\u001b[0;34m=\u001b[0m\u001b[0morder\u001b[0m\u001b[0;34m)\u001b[0m\u001b[0;34m\u001b[0m\u001b[0;34m\u001b[0m\u001b[0m\n\u001b[0m\u001b[1;32m     84\u001b[0m \u001b[0;34m\u001b[0m\u001b[0m\n\u001b[1;32m     85\u001b[0m \u001b[0;34m\u001b[0m\u001b[0m\n",
      "\u001b[0;31mValueError\u001b[0m: could not convert string to float: 'Rael Mugambi (+254722913252)'"
     ]
    }
   ],
   "source": [
    "#\n",
    "# clf.fit(X, y)\n",
    "\n",
    "#this throws an error - should have known. -> ValueError: could not convert string to float:\n",
    "# X expects int or floats (or categories) and not a string. \n",
    "\n",
    "# need to figure out what to do net "
   ]
  },
  {
   "cell_type": "code",
   "execution_count": 51,
   "metadata": {},
   "outputs": [],
   "source": []
  },
  {
   "cell_type": "code",
   "execution_count": null,
   "metadata": {},
   "outputs": [],
   "source": []
  }
 ],
 "metadata": {
  "kernelspec": {
   "display_name": "Python 3 (ipykernel)",
   "language": "python",
   "name": "python3"
  },
  "language_info": {
   "codemirror_mode": {
    "name": "ipython",
    "version": 3
   },
   "file_extension": ".py",
   "mimetype": "text/x-python",
   "name": "python",
   "nbconvert_exporter": "python",
   "pygments_lexer": "ipython3",
   "version": "3.9.2"
  }
 },
 "nbformat": 4,
 "nbformat_minor": 4
}
